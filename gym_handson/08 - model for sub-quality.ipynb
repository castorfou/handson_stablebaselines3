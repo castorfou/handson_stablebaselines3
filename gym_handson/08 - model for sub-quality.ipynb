{
 "cells": [
  {
   "cell_type": "markdown",
   "id": "3868e4cc",
   "metadata": {},
   "source": [
    "## pre load libs"
   ]
  },
  {
   "cell_type": "code",
   "execution_count": 4,
   "id": "6e812feb",
   "metadata": {
    "ExecuteTime": {
     "end_time": "2021-10-08T07:04:17.519522Z",
     "start_time": "2021-10-08T07:04:16.315489Z"
    }
   },
   "outputs": [
    {
     "name": "stdout",
     "output_type": "stream",
     "text": [
      "The autoreload extension is already loaded. To reload it, use:\n",
      "  %reload_ext autoreload\n"
     ]
    }
   ],
   "source": [
    "%load_ext autoreload\n",
    "%autoreload 2\n",
    "\n",
    "from exp.janus_rl import *"
   ]
  },
  {
   "cell_type": "code",
   "execution_count": 24,
   "id": "2e559cda",
   "metadata": {
    "ExecuteTime": {
     "end_time": "2021-10-08T07:29:37.854435Z",
     "start_time": "2021-10-08T07:29:36.645984Z"
    }
   },
   "outputs": [],
   "source": [
    "## ML model\n",
    "from sklearn.ensemble import RandomForestClassifier, RandomForestRegressor\n",
    "from sklearn.tree import DecisionTreeClassifier, DecisionTreeRegressor\n",
    "from sklearn.linear_model import LinearRegression\n",
    "\n",
    "from sklearn.model_selection import train_test_split\n",
    "from sklearn.metrics import mean_squared_error, r2_score\n",
    "from sklearn import preprocessing\n",
    "from sklearn.datasets import make_regression\n",
    "\n",
    "import math\n",
    "import pickle"
   ]
  },
  {
   "cell_type": "code",
   "execution_count": null,
   "id": "dd674e3d",
   "metadata": {
    "ExecuteTime": {
     "end_time": "2021-10-08T07:10:01.933796Z",
     "start_time": "2021-10-08T07:10:00.445977Z"
    }
   },
   "outputs": [],
   "source": [
    "import seaborn as sns\n",
    "import matplotlib.pyplot as plt\n",
    "\n",
    "def plot_feature_importance(importance,names,model_type,nb_features):\n",
    "\n",
    "    #Create arrays from feature importance and feature names\n",
    "    feature_importance = np.array(importance)\n",
    "    feature_names = np.array(names)\n",
    "\n",
    "    #Create a DataFrame using a Dictionary\n",
    "    data={'feature_names':feature_names,'feature_importance':feature_importance}\n",
    "    fi_df = pd.DataFrame(data)\n",
    "\n",
    "    #Sort the DataFrame in order decreasing feature importance\n",
    "    fi_df.sort_values(by=['feature_importance'], ascending=False,inplace=True)\n",
    "\n",
    "    #Define size of bar plot\n",
    "    plt.figure(figsize=(10,8))\n",
    "    #Plot Searborn bar chart\n",
    "    sns.barplot(x=fi_df['feature_importance'][:nb_features], y=fi_df['feature_names'][:nb_features])\n",
    "    #Add chart labels\n",
    "    plt.title(model_type + ' - FEATURES IMPORTANCE')\n",
    "    plt.xlabel('FEATURE IMPORTANCE')\n",
    "    plt.ylabel('FEATURE NAMES')"
   ]
  },
  {
   "cell_type": "markdown",
   "id": "a26bf355",
   "metadata": {},
   "source": [
    "# Identify features from our ml predict model linked to sub-quality"
   ]
  },
  {
   "cell_type": "code",
   "execution_count": 5,
   "id": "a2a9afab",
   "metadata": {
    "ExecuteTime": {
     "end_time": "2021-10-08T07:04:18.706686Z",
     "start_time": "2021-10-08T07:04:17.522507Z"
    }
   },
   "outputs": [],
   "source": [
    "sub_quality_range = (297, 324)\n",
    "\n",
    "list_important_sub_quality = np.argsort(janus_env.ml_model.feature_importances_)[::-1]\n",
    "list_important_sub_quality\n",
    "\n",
    "list_important_features_real_column_names = [janus_env.full_x.columns[idx] for idx in list_important_sub_quality]\n",
    "list_sub_quality_important_features_real_column_names = [qual for qual in list_important_features_real_column_names\n",
    "                                                         if ( sub_quality_range[0] <= int(qual.split('_')[1]) <= sub_quality_range[1])]"
   ]
  },
  {
   "cell_type": "code",
   "execution_count": 6,
   "id": "398dc258",
   "metadata": {
    "ExecuteTime": {
     "end_time": "2021-10-08T07:04:19.907407Z",
     "start_time": "2021-10-08T07:04:18.708627Z"
    }
   },
   "outputs": [
    {
     "data": {
      "text/plain": [
       "['data_311',\n",
       " 'data_299',\n",
       " 'data_300',\n",
       " 'data_323',\n",
       " 'data_308',\n",
       " 'data_310',\n",
       " 'data_302']"
      ]
     },
     "execution_count": 6,
     "metadata": {},
     "output_type": "execute_result"
    }
   ],
   "source": [
    "list_sub_quality_important_features_real_column_names[:7]"
   ]
  },
  {
   "cell_type": "markdown",
   "id": "b19db3a4",
   "metadata": {},
   "source": [
    "I will focus arbitrarely on these 7 first features"
   ]
  },
  {
   "cell_type": "markdown",
   "id": "a5afd783",
   "metadata": {},
   "source": [
    "# train a prediction model for these features"
   ]
  },
  {
   "cell_type": "code",
   "execution_count": 8,
   "id": "22e40d11",
   "metadata": {
    "ExecuteTime": {
     "end_time": "2021-10-08T07:04:32.267367Z",
     "start_time": "2021-10-08T07:04:31.075435Z"
    }
   },
   "outputs": [
    {
     "name": "stdout",
     "output_type": "stream",
     "text": [
      "features shape: (13639, 221), \n",
      "sub quality targets shape: (13639, 7)\n",
      "\n",
      "Length of train is 12275, test is 1364\n"
     ]
    }
   ],
   "source": [
    "\n",
    "\n",
    "\n",
    "sub_quality_col = list_sub_quality_important_features_real_column_names[:7]\n",
    "\n",
    "\n",
    "y_df = janus_env.full_x[sub_quality_col].copy()\n",
    "x_df = janus_env.full_x.drop(columns=sub_quality_col).copy()\n",
    "\n",
    "print('features shape: {}, \\nsub quality targets shape: {}'.format(x_df.shape, y_df.shape))\n",
    "\n",
    "x_train, x_test, y_train, y_test = train_test_split(x_df, y_df, test_size=0.1, random_state=14)\n",
    "print('\\nLength of train is {}, test is {}'.format(len(x_train), len(x_test)))"
   ]
  },
  {
   "cell_type": "code",
   "execution_count": 9,
   "id": "7d84719d",
   "metadata": {
    "ExecuteTime": {
     "end_time": "2021-10-08T07:05:55.250435Z",
     "start_time": "2021-10-08T07:04:34.765734Z"
    }
   },
   "outputs": [
    {
     "name": "stdout",
     "output_type": "stream",
     "text": [
      "MSE:  0.13184474934582263\n",
      "RMSE:  0.36310432295116324\n",
      "R-squared:  0.865271920442925\n"
     ]
    }
   ],
   "source": [
    "## Model fitting\n",
    "\n",
    "ml_model = RandomForestRegressor()   \n",
    "ml_model.fit(x_train, y_train)\n",
    "\n",
    "test_pred = ml_model.predict(x_test)\n",
    "\n",
    "mse = mean_squared_error(y_test, test_pred)\n",
    "rmse = math.sqrt(mse)\n",
    "r2 = r2_score(y_test, test_pred)       \n",
    "\n",
    "print('MSE: ', mse)\n",
    "print('RMSE: ',rmse)\n",
    "print('R-squared: ',r2)"
   ]
  },
  {
   "cell_type": "code",
   "execution_count": 10,
   "id": "74d6bd23",
   "metadata": {
    "ExecuteTime": {
     "end_time": "2021-10-08T07:06:14.499118Z",
     "start_time": "2021-10-08T07:06:12.837143Z"
    }
   },
   "outputs": [
    {
     "name": "stdout",
     "output_type": "stream",
     "text": [
      "R squared: 0.8653\n"
     ]
    }
   ],
   "source": [
    "## ---- save/load the model to disk\n",
    "\n",
    "## Random forest\n",
    "filename = 'data/models/janus_stam_RF.pkl'  # janus_LinearReg, janus_RF\n",
    "\n",
    "# pickle.dump(ml_model, open(filename, 'wb'))\n",
    "\n",
    "# # load the model from disk\n",
    "ml_model = pickle.load(open(filename, 'rb'))\n",
    "print(f'R squared: {ml_model.score(x_test, y_test.values):0.04f}')\n"
   ]
  },
  {
   "cell_type": "markdown",
   "id": "b0eb17d5",
   "metadata": {},
   "source": [
    "Check if we don't have too much sub quality inputs in feature importance"
   ]
  },
  {
   "cell_type": "code",
   "execution_count": 11,
   "id": "8edf706a",
   "metadata": {
    "ExecuteTime": {
     "end_time": "2021-10-08T07:06:26.473586Z",
     "start_time": "2021-10-08T07:06:25.268267Z"
    }
   },
   "outputs": [
    {
     "data": {
      "text/plain": [
       "array([188, 173, 177, 191, 180, 161, 165, 171, 153, 184, 157, 185, 172,\n",
       "        41,  42,  35, 176, 198, 166, 164, 194,  40,  36,  68, 183, 158,\n",
       "       160, 174, 155, 159, 192, 178, 162, 187, 189, 167, 181, 170, 186,\n",
       "       151, 168,  58, 196, 175, 182, 197, 199,  95,  94, 150,  73, 154,\n",
       "       195,  72,  56, 179, 193, 156,   0, 190, 211, 169, 127,  67,  63,\n",
       "        59,  62,  60, 129,  55,  24,  31, 142, 220, 210, 126, 140, 128,\n",
       "       144, 136,  49, 141,  96,   2, 147, 139,  21, 163, 135,  83, 148,\n",
       "       149, 121,  90,  97,  11,  20, 119,  23,   7,   6, 111,   1,  17,\n",
       "        84,  25,  13, 109,  69,  12,  92,  27, 117, 152,  91,  53,  29,\n",
       "       134, 108, 112,  82,  18, 143, 131, 145,  43, 110,   4,  22,  61,\n",
       "        98, 125, 101, 138,  33,  15,  85,  88, 133,  93, 115,  30,   5,\n",
       "        64, 123, 132,   8,  86,  54,  10,  71,  26, 137, 118,  99,  16,\n",
       "       106,   9, 120,  32, 146,  70, 105, 104,  77, 100,  65, 116, 103,\n",
       "        57, 130, 107, 113,  79,  89,  14, 200,  78,   3,  66,  44, 217,\n",
       "        19, 114, 206, 102,  80, 215,  75,  81,  76,  46, 122,  87,  28,\n",
       "        45, 124,  37,  74,  39,  52, 214, 204,  51,  38,  48, 212,  47,\n",
       "       216, 207, 208, 213, 219,  34,  50, 203, 205, 202, 218, 201, 209],\n",
       "      dtype=int64)"
      ]
     },
     "execution_count": 11,
     "metadata": {},
     "output_type": "execute_result"
    }
   ],
   "source": [
    "list_important_features = np.argsort(ml_model.feature_importances_)\n",
    "list_important_features"
   ]
  },
  {
   "cell_type": "code",
   "execution_count": 12,
   "id": "aec286bc",
   "metadata": {
    "ExecuteTime": {
     "end_time": "2021-10-08T07:06:30.430114Z",
     "start_time": "2021-10-08T07:06:29.270052Z"
    }
   },
   "outputs": [
    {
     "data": {
      "text/plain": [
       "['data_284',\n",
       " 'data_257',\n",
       " 'data_264',\n",
       " 'data_287',\n",
       " 'data_268',\n",
       " 'data_240',\n",
       " 'data_244',\n",
       " 'data_254',\n",
       " 'data_227',\n",
       " 'data_275',\n",
       " 'data_233',\n",
       " 'data_276',\n",
       " 'data_256',\n",
       " 'data_45',\n",
       " 'data_46',\n",
       " 'data_39',\n",
       " 'data_262',\n",
       " 'data_295',\n",
       " 'data_245',\n",
       " 'data_243',\n",
       " 'data_291',\n",
       " 'data_44',\n",
       " 'data_40',\n",
       " 'data_72',\n",
       " 'data_274',\n",
       " 'data_234',\n",
       " 'data_238',\n",
       " 'data_258',\n",
       " 'data_229',\n",
       " 'data_235',\n",
       " 'data_289',\n",
       " 'data_266',\n",
       " 'data_241',\n",
       " 'data_278',\n",
       " 'data_285',\n",
       " 'data_248',\n",
       " 'data_270',\n",
       " 'data_252',\n",
       " 'data_277',\n",
       " 'data_225',\n",
       " 'data_250',\n",
       " 'data_62',\n",
       " 'data_293',\n",
       " 'data_261',\n",
       " 'data_273',\n",
       " 'data_294',\n",
       " 'data_296',\n",
       " 'data_104',\n",
       " 'data_102',\n",
       " 'data_224',\n",
       " 'data_77',\n",
       " 'data_228',\n",
       " 'data_292',\n",
       " 'data_76',\n",
       " 'data_60',\n",
       " 'data_267',\n",
       " 'data_290',\n",
       " 'data_232',\n",
       " 'data_0',\n",
       " 'data_286',\n",
       " 'data_308',\n",
       " 'data_251',\n",
       " 'data_201',\n",
       " 'data_71',\n",
       " 'data_67',\n",
       " 'data_63',\n",
       " 'data_66',\n",
       " 'data_64',\n",
       " 'data_203',\n",
       " 'data_59',\n",
       " 'data_28',\n",
       " 'data_35',\n",
       " 'data_216',\n",
       " 'data_317',\n",
       " 'data_307',\n",
       " 'data_200',\n",
       " 'data_214',\n",
       " 'data_202',\n",
       " 'data_218',\n",
       " 'data_210',\n",
       " 'data_53',\n",
       " 'data_215',\n",
       " 'data_170',\n",
       " 'data_2',\n",
       " 'data_221',\n",
       " 'data_213',\n",
       " 'data_25',\n",
       " 'data_242',\n",
       " 'data_209',\n",
       " 'data_87',\n",
       " 'data_222',\n",
       " 'data_223',\n",
       " 'data_195',\n",
       " 'data_94',\n",
       " 'data_171',\n",
       " 'data_13',\n",
       " 'data_24',\n",
       " 'data_193',\n",
       " 'data_27',\n",
       " 'data_9',\n",
       " 'data_8',\n",
       " 'data_185',\n",
       " 'data_1',\n",
       " 'data_19',\n",
       " 'data_88',\n",
       " 'data_29',\n",
       " 'data_15',\n",
       " 'data_183',\n",
       " 'data_73',\n",
       " 'data_14',\n",
       " 'data_96',\n",
       " 'data_31',\n",
       " 'data_191',\n",
       " 'data_226',\n",
       " 'data_95',\n",
       " 'data_57',\n",
       " 'data_33',\n",
       " 'data_208',\n",
       " 'data_182',\n",
       " 'data_186',\n",
       " 'data_86',\n",
       " 'data_20',\n",
       " 'data_217',\n",
       " 'data_205',\n",
       " 'data_219',\n",
       " 'data_47',\n",
       " 'data_184',\n",
       " 'data_6',\n",
       " 'data_26',\n",
       " 'data_65',\n",
       " 'data_172',\n",
       " 'data_199',\n",
       " 'data_175',\n",
       " 'data_212',\n",
       " 'data_37',\n",
       " 'data_17',\n",
       " 'data_89',\n",
       " 'data_92',\n",
       " 'data_207',\n",
       " 'data_97',\n",
       " 'data_189',\n",
       " 'data_34',\n",
       " 'data_7',\n",
       " 'data_68',\n",
       " 'data_197',\n",
       " 'data_206',\n",
       " 'data_10',\n",
       " 'data_90',\n",
       " 'data_58',\n",
       " 'data_12',\n",
       " 'data_75',\n",
       " 'data_30',\n",
       " 'data_211',\n",
       " 'data_192',\n",
       " 'data_173',\n",
       " 'data_18',\n",
       " 'data_180',\n",
       " 'data_11',\n",
       " 'data_194',\n",
       " 'data_36',\n",
       " 'data_220',\n",
       " 'data_74',\n",
       " 'data_179',\n",
       " 'data_178',\n",
       " 'data_81',\n",
       " 'data_174',\n",
       " 'data_69',\n",
       " 'data_190',\n",
       " 'data_177',\n",
       " 'data_61',\n",
       " 'data_204',\n",
       " 'data_181',\n",
       " 'data_187',\n",
       " 'data_83',\n",
       " 'data_93',\n",
       " 'data_16',\n",
       " 'data_297',\n",
       " 'data_82',\n",
       " 'data_5',\n",
       " 'data_70',\n",
       " 'data_48',\n",
       " 'data_314',\n",
       " 'data_21',\n",
       " 'data_188',\n",
       " 'data_303',\n",
       " 'data_176',\n",
       " 'data_84',\n",
       " 'data_312',\n",
       " 'data_79',\n",
       " 'data_85',\n",
       " 'data_80',\n",
       " 'data_50',\n",
       " 'data_196',\n",
       " 'data_91',\n",
       " 'data_32',\n",
       " 'data_49',\n",
       " 'data_198',\n",
       " 'data_41',\n",
       " 'data_78',\n",
       " 'data_43',\n",
       " 'data_56',\n",
       " 'data_311',\n",
       " 'data_301',\n",
       " 'data_55',\n",
       " 'data_42',\n",
       " 'data_52',\n",
       " 'data_309',\n",
       " 'data_51',\n",
       " 'data_313',\n",
       " 'data_304',\n",
       " 'data_305',\n",
       " 'data_310',\n",
       " 'data_316',\n",
       " 'data_38',\n",
       " 'data_54',\n",
       " 'data_300',\n",
       " 'data_302',\n",
       " 'data_299',\n",
       " 'data_315',\n",
       " 'data_298',\n",
       " 'data_306']"
      ]
     },
     "execution_count": 12,
     "metadata": {},
     "output_type": "execute_result"
    }
   ],
   "source": [
    "[janus_env.full_x.columns[idx] for idx in list_important_features]"
   ]
  },
  {
   "cell_type": "code",
   "execution_count": null,
   "id": "1ed382d2",
   "metadata": {
    "ExecuteTime": {
     "end_time": "2021-10-07T07:06:17.656972Z",
     "start_time": "2021-10-07T06:49:48.270745Z"
    },
    "deletable": false,
    "editable": false,
    "run_control": {
     "frozen": true
    }
   },
   "outputs": [],
   "source": [
    "import shap\n",
    "explainer = shap.TreeExplainer(ml_model)\n",
    "shap_values = explainer.shap_values(x_test)"
   ]
  },
  {
   "cell_type": "code",
   "execution_count": 35,
   "id": "ccd09a3b",
   "metadata": {
    "ExecuteTime": {
     "end_time": "2021-10-07T07:22:06.295051Z",
     "start_time": "2021-10-07T07:22:03.286054Z"
    },
    "deletable": false,
    "editable": false,
    "run_control": {
     "frozen": true
    }
   },
   "outputs": [
    {
     "data": {
      "image/png": "[encoded data removed]",
      "text/plain": [
       "<Figure size 576x684 with 1 Axes>"
      ]
     },
     "metadata": {
      "needs_background": "light"
     },
     "output_type": "display_data"
    }
   ],
   "source": [
    "shap.summary_plot(shap_values, x_test)"
   ]
  },
  {
   "cell_type": "code",
   "execution_count": 17,
   "id": "2d160955",
   "metadata": {
    "ExecuteTime": {
     "end_time": "2021-10-08T07:10:01.933796Z",
     "start_time": "2021-10-08T07:10:00.445977Z"
    }
   },
   "outputs": [
    {
     "data": {
      "image/png": "[encoded data removed]",
      "text/plain": [
       "<Figure size 720x576 with 1 Axes>"
      ]
     },
     "metadata": {
      "needs_background": "light"
     },
     "output_type": "display_data"
    }
   ],
   "source": [
    "plot_feature_importance(ml_model.feature_importances_,x_df.columns,'RANDOM FOREST', 15)"
   ]
  },
  {
   "cell_type": "markdown",
   "id": "c811b99b",
   "metadata": {},
   "source": [
    "# Retrain a model without any sub-quality data"
   ]
  },
  {
   "cell_type": "code",
   "execution_count": 23,
   "id": "0fd3dd6e",
   "metadata": {
    "ExecuteTime": {
     "end_time": "2021-10-08T07:29:11.729384Z",
     "start_time": "2021-10-08T07:29:10.516862Z"
    }
   },
   "outputs": [
    {
     "data": {
      "text/plain": [
       "['data_297',\n",
       " 'data_298',\n",
       " 'data_299',\n",
       " 'data_300',\n",
       " 'data_301',\n",
       " 'data_302',\n",
       " 'data_303',\n",
       " 'data_304',\n",
       " 'data_305',\n",
       " 'data_306',\n",
       " 'data_307',\n",
       " 'data_308',\n",
       " 'data_309',\n",
       " 'data_310',\n",
       " 'data_311',\n",
       " 'data_312',\n",
       " 'data_313',\n",
       " 'data_314',\n",
       " 'data_315',\n",
       " 'data_316',\n",
       " 'data_317',\n",
       " 'data_318',\n",
       " 'data_319',\n",
       " 'data_320',\n",
       " 'data_321',\n",
       " 'data_322',\n",
       " 'data_323',\n",
       " 'data_324']"
      ]
     },
     "execution_count": 23,
     "metadata": {},
     "output_type": "execute_result"
    }
   ],
   "source": [
    "sub_quality_range = (297, 324)\n",
    "sub_quality_col = [qual for qual in janus_env.full_x.columns\n",
    "                                                         if ( sub_quality_range[0] <= int(qual.split('_')[1]) <= sub_quality_range[1])]\n",
    "sub_quality_col"
   ]
  },
  {
   "cell_type": "code",
   "execution_count": 25,
   "id": "0daf1333",
   "metadata": {
    "ExecuteTime": {
     "end_time": "2021-10-08T07:30:00.427608Z",
     "start_time": "2021-10-08T07:29:59.101220Z"
    }
   },
   "outputs": [
    {
     "name": "stdout",
     "output_type": "stream",
     "text": [
      "features shape: (13639, 200), \n",
      "sub quality targets shape: (13639, 28)\n",
      "\n",
      "Length of train is 12275, test is 1364\n"
     ]
    }
   ],
   "source": [
    "y_df = janus_env.full_x[sub_quality_col].copy()\n",
    "x_df = janus_env.full_x.drop(columns=sub_quality_col).copy()\n",
    "\n",
    "print('features shape: {}, \\nsub quality targets shape: {}'.format(x_df.shape, y_df.shape))\n",
    "\n",
    "x_train, x_test, y_train, y_test = train_test_split(x_df, y_df, test_size=0.1, random_state=14)\n",
    "print('\\nLength of train is {}, test is {}'.format(len(x_train), len(x_test)))"
   ]
  },
  {
   "cell_type": "code",
   "execution_count": 26,
   "id": "8d15bf5d",
   "metadata": {
    "ExecuteTime": {
     "end_time": "2021-10-08T07:32:09.267836Z",
     "start_time": "2021-10-08T07:30:17.228931Z"
    },
    "deletable": false,
    "editable": false,
    "run_control": {
     "frozen": true
    }
   },
   "outputs": [
    {
     "name": "stdout",
     "output_type": "stream",
     "text": [
      "MSE:  0.35144844550344395\n",
      "RMSE:  0.5928308742832512\n",
      "R-squared:  0.6956102388481462\n"
     ]
    }
   ],
   "source": [
    "## Model fitting\n",
    "\n",
    "ml_model = RandomForestRegressor()   \n",
    "ml_model.fit(x_train, y_train)\n",
    "\n",
    "test_pred = ml_model.predict(x_test)\n",
    "\n",
    "mse = mean_squared_error(y_test, test_pred)\n",
    "rmse = math.sqrt(mse)\n",
    "r2 = r2_score(y_test, test_pred)       \n",
    "\n",
    "print('MSE: ', mse)\n",
    "print('RMSE: ',rmse)\n",
    "print('R-squared: ',r2)"
   ]
  },
  {
   "cell_type": "code",
   "execution_count": 27,
   "id": "d8ffbead",
   "metadata": {
    "ExecuteTime": {
     "end_time": "2021-10-08T07:33:23.950218Z",
     "start_time": "2021-10-08T07:33:21.606079Z"
    }
   },
   "outputs": [
    {
     "name": "stdout",
     "output_type": "stream",
     "text": [
      "R squared: 0.6956\n"
     ]
    }
   ],
   "source": [
    "## ---- save/load the model to disk\n",
    "\n",
    "## Random forest\n",
    "filename = 'data/models/janus_stam_RF.pkl'  # janus_LinearReg, janus_RF\n",
    "\n",
    "# pickle.dump(ml_model, open(filename, 'wb'))\n",
    "\n",
    "# # load the model from disk\n",
    "ml_model = pickle.load(open(filename, 'rb'))\n",
    "print(f'R squared: {ml_model.score(x_test, y_test.values):0.04f}')\n"
   ]
  },
  {
   "cell_type": "code",
   "execution_count": 28,
   "id": "96ce0302",
   "metadata": {
    "ExecuteTime": {
     "end_time": "2021-10-08T07:33:58.531965Z",
     "start_time": "2021-10-08T07:33:56.860806Z"
    }
   },
   "outputs": [
    {
     "data": {
      "image/png": "[encoded data removed]",
      "text/plain": [
       "<Figure size 720x576 with 1 Axes>"
      ]
     },
     "metadata": {
      "needs_background": "light"
     },
     "output_type": "display_data"
    }
   ],
   "source": [
    "plot_feature_importance(ml_model.feature_importances_,x_df.columns,'RANDOM FOREST', 15)"
   ]
  },
  {
   "cell_type": "code",
   "execution_count": 31,
   "id": "a97695ea",
   "metadata": {
    "ExecuteTime": {
     "end_time": "2021-10-08T07:35:54.727075Z",
     "start_time": "2021-10-08T07:35:52.381636Z"
    }
   },
   "outputs": [
    {
     "name": "stdout",
     "output_type": "stream",
     "text": [
      "features shape: (782, 228), \n",
      "targets shape: (782, 2)\n",
      "\n",
      "Length of train is 703, test is 79\n",
      "R squared: 0.6441\n",
      "Output steps:  [0.064, 0.057]\n",
      "Active reward function clown_hat\n"
     ]
    },
    {
     "data": {
      "text/plain": [
       "Index(['data_54', 'data_6', 'data_41', 'data_68', 'data_55', 'data_51'], dtype='object')"
      ]
     },
     "execution_count": 31,
     "metadata": {},
     "output_type": "execute_result"
    }
   ],
   "source": [
    "janus_env = Janus(nbr_actions=6)\n",
    "\n",
    "janus_env.full_x.columns[janus_env.list_important_actions]"
   ]
  },
  {
   "cell_type": "code",
   "execution_count": null,
   "id": "6105044c",
   "metadata": {},
   "outputs": [],
   "source": []
  }
 ],
 "metadata": {
  "kernelspec": {
   "display_name": "Python [conda env:stablebaselines3] *",
   "language": "python",
   "name": "conda-env-stablebaselines3-py"
  },
  "language_info": {
   "codemirror_mode": {
    "name": "ipython",
    "version": 3
   },
   "file_extension": ".py",
   "mimetype": "text/x-python",
   "name": "python",
   "nbconvert_exporter": "python",
   "pygments_lexer": "ipython3",
   "version": "3.7.11"
  },
  "toc": {
   "base_numbering": 1,
   "nav_menu": {},
   "number_sections": true,
   "sideBar": true,
   "skip_h1_title": false,
   "title_cell": "Table of Contents",
   "title_sidebar": "Contents",
   "toc_cell": false,
   "toc_position": {
    "height": "calc(100% - 180px)",
    "left": "10px",
    "top": "150px",
    "width": "384px"
   },
   "toc_section_display": true,
   "toc_window_display": true
  },
  "varInspector": {
   "cols": {
    "lenName": 16,
    "lenType": 16,
    "lenVar": 40
   },
   "kernels_config": {
    "python": {
     "delete_cmd_postfix": "",
     "delete_cmd_prefix": "del ",
     "library": "var_list.py",
     "varRefreshCmd": "print(var_dic_list())"
    },
    "r": {
     "delete_cmd_postfix": ") ",
     "delete_cmd_prefix": "rm(",
     "library": "var_list.r",
     "varRefreshCmd": "cat(var_dic_list()) "
    }
   },
   "types_to_exclude": [
    "module",
    "function",
    "builtin_function_or_method",
    "instance",
    "_Feature"
   ],
   "window_display": false
  }
 },
 "nbformat": 4,
 "nbformat_minor": 5
}
